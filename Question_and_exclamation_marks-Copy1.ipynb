{
 "cells": [
  {
   "cell_type": "code",
   "execution_count": 2,
   "id": "e4921183",
   "metadata": {},
   "outputs": [],
   "source": [
    "import pandas as pd\n",
    "import numpy as np\n",
    "import matplotlib.pyplot as plt"
   ]
  },
  {
   "cell_type": "code",
   "execution_count": 3,
   "id": "f7957a0f",
   "metadata": {},
   "outputs": [
    {
     "data": {
      "text/html": [
       "<div>\n",
       "<style scoped>\n",
       "    .dataframe tbody tr th:only-of-type {\n",
       "        vertical-align: middle;\n",
       "    }\n",
       "\n",
       "    .dataframe tbody tr th {\n",
       "        vertical-align: top;\n",
       "    }\n",
       "\n",
       "    .dataframe thead th {\n",
       "        text-align: right;\n",
       "    }\n",
       "</style>\n",
       "<table border=\"1\" class=\"dataframe\">\n",
       "  <thead>\n",
       "    <tr style=\"text-align: right;\">\n",
       "      <th></th>\n",
       "      <th>Unnamed: 0</th>\n",
       "      <th>created_at</th>\n",
       "      <th>test_week</th>\n",
       "      <th>test_id</th>\n",
       "      <th>headline</th>\n",
       "      <th>image_id</th>\n",
       "      <th>excerpt</th>\n",
       "      <th>lede</th>\n",
       "      <th>slug</th>\n",
       "      <th>share_text</th>\n",
       "      <th>share_image</th>\n",
       "      <th>impressions</th>\n",
       "      <th>click</th>\n",
       "      <th>first_place</th>\n",
       "      <th>winner</th>\n",
       "      <th>punctuation_bool</th>\n",
       "      <th>clicks_ratio</th>\n",
       "    </tr>\n",
       "  </thead>\n",
       "  <tbody>\n",
       "    <tr>\n",
       "      <th>0</th>\n",
       "      <td>0</td>\n",
       "      <td>20/11/2014</td>\n",
       "      <td>17/11/2014</td>\n",
       "      <td>546d88fb84ad38b2ce000024</td>\n",
       "      <td>They're Being Called 'Walmart's Worst Nightmar...</td>\n",
       "      <td>546d6fa19ad54eec8d00002d</td>\n",
       "      <td>Things that matter. Pass 'em on.</td>\n",
       "      <td>&lt;p&gt;When I saw *why* people are calling them \"W...</td>\n",
       "      <td>theyre-being-called-walmarts-worst-nightmare-a...</td>\n",
       "      <td>Anyone who's ever felt guilty about shopping a...</td>\n",
       "      <td>NaN</td>\n",
       "      <td>3052</td>\n",
       "      <td>150</td>\n",
       "      <td>True</td>\n",
       "      <td>True</td>\n",
       "      <td>0</td>\n",
       "      <td>0.049148</td>\n",
       "    </tr>\n",
       "    <tr>\n",
       "      <th>1</th>\n",
       "      <td>3</td>\n",
       "      <td>20/11/2014</td>\n",
       "      <td>17/11/2014</td>\n",
       "      <td>546d902c26714c6c44000039</td>\n",
       "      <td>This Is What Sexism Against Men Sounds Like</td>\n",
       "      <td>546bc55335992b86c8000043</td>\n",
       "      <td>Things that matter. Pass 'em on.</td>\n",
       "      <td>&lt;p&gt;DISCLOSURE: I'm a dude. I have cried on mul...</td>\n",
       "      <td>this-is-what-sexism-against-men-sounds-like-am...</td>\n",
       "      <td>If you ever wondered, \"but what about the men?...</td>\n",
       "      <td>NaN</td>\n",
       "      <td>3526</td>\n",
       "      <td>90</td>\n",
       "      <td>False</td>\n",
       "      <td>False</td>\n",
       "      <td>0</td>\n",
       "      <td>0.025525</td>\n",
       "    </tr>\n",
       "    <tr>\n",
       "      <th>2</th>\n",
       "      <td>11</td>\n",
       "      <td>20/11/2014</td>\n",
       "      <td>17/11/2014</td>\n",
       "      <td>546deb3f26714cd2dd00003a</td>\n",
       "      <td>Kim Jong Un Would Really Hate For You To Watch...</td>\n",
       "      <td>545c477e74bfe7589400000b</td>\n",
       "      <td>Things that matter. Pass 'em on.</td>\n",
       "      <td>&lt;p&gt;At age 21, Yeonmi Park is a brand new activ...</td>\n",
       "      <td>kim-jong-un-would-really-hate-for-you-to-watch...</td>\n",
       "      <td>NaN</td>\n",
       "      <td>NaN</td>\n",
       "      <td>3910</td>\n",
       "      <td>142</td>\n",
       "      <td>False</td>\n",
       "      <td>False</td>\n",
       "      <td>0</td>\n",
       "      <td>0.036317</td>\n",
       "    </tr>\n",
       "    <tr>\n",
       "      <th>3</th>\n",
       "      <td>12</td>\n",
       "      <td>20/11/2014</td>\n",
       "      <td>17/11/2014</td>\n",
       "      <td>546e009a9ad54ec65b00004b</td>\n",
       "      <td>What They Learned From The Scientist Was Terri...</td>\n",
       "      <td>546c7f2dbadeb5788700000a</td>\n",
       "      <td>Things that matter. Pass 'em on.</td>\n",
       "      <td>&lt;p&gt;Some decent guys fighting for an important ...</td>\n",
       "      <td>what-they-learned-from-the-scientist-was-terri...</td>\n",
       "      <td>NaN</td>\n",
       "      <td>NaN</td>\n",
       "      <td>4594</td>\n",
       "      <td>51</td>\n",
       "      <td>False</td>\n",
       "      <td>False</td>\n",
       "      <td>0</td>\n",
       "      <td>0.011101</td>\n",
       "    </tr>\n",
       "    <tr>\n",
       "      <th>4</th>\n",
       "      <td>18</td>\n",
       "      <td>20/11/2014</td>\n",
       "      <td>17/11/2014</td>\n",
       "      <td>546dfa4226714c0538000064</td>\n",
       "      <td>A Bunch Of Celebrities Recorded A Song To Rais...</td>\n",
       "      <td>546df33b84ad3834f000004c</td>\n",
       "      <td>Things that matter. Pass 'em on.</td>\n",
       "      <td>&lt;p&gt;In November 2014, singer/songerwriter Bob G...</td>\n",
       "      <td>a-bunch-of-celebrities-recorded-a-song-to-rais...</td>\n",
       "      <td>Powerful quotes from the musician who turned d...</td>\n",
       "      <td>NaN</td>\n",
       "      <td>3848</td>\n",
       "      <td>220</td>\n",
       "      <td>True</td>\n",
       "      <td>True</td>\n",
       "      <td>0</td>\n",
       "      <td>0.057173</td>\n",
       "    </tr>\n",
       "  </tbody>\n",
       "</table>\n",
       "</div>"
      ],
      "text/plain": [
       "   Unnamed: 0  created_at   test_week                   test_id  \\\n",
       "0           0  20/11/2014  17/11/2014  546d88fb84ad38b2ce000024   \n",
       "1           3  20/11/2014  17/11/2014  546d902c26714c6c44000039   \n",
       "2          11  20/11/2014  17/11/2014  546deb3f26714cd2dd00003a   \n",
       "3          12  20/11/2014  17/11/2014  546e009a9ad54ec65b00004b   \n",
       "4          18  20/11/2014  17/11/2014  546dfa4226714c0538000064   \n",
       "\n",
       "                                            headline  \\\n",
       "0  They're Being Called 'Walmart's Worst Nightmar...   \n",
       "1        This Is What Sexism Against Men Sounds Like   \n",
       "2  Kim Jong Un Would Really Hate For You To Watch...   \n",
       "3  What They Learned From The Scientist Was Terri...   \n",
       "4  A Bunch Of Celebrities Recorded A Song To Rais...   \n",
       "\n",
       "                   image_id                           excerpt  \\\n",
       "0  546d6fa19ad54eec8d00002d  Things that matter. Pass 'em on.   \n",
       "1  546bc55335992b86c8000043  Things that matter. Pass 'em on.   \n",
       "2  545c477e74bfe7589400000b  Things that matter. Pass 'em on.   \n",
       "3  546c7f2dbadeb5788700000a  Things that matter. Pass 'em on.   \n",
       "4  546df33b84ad3834f000004c  Things that matter. Pass 'em on.   \n",
       "\n",
       "                                                lede  \\\n",
       "0  <p>When I saw *why* people are calling them \"W...   \n",
       "1  <p>DISCLOSURE: I'm a dude. I have cried on mul...   \n",
       "2  <p>At age 21, Yeonmi Park is a brand new activ...   \n",
       "3  <p>Some decent guys fighting for an important ...   \n",
       "4  <p>In November 2014, singer/songerwriter Bob G...   \n",
       "\n",
       "                                                slug  \\\n",
       "0  theyre-being-called-walmarts-worst-nightmare-a...   \n",
       "1  this-is-what-sexism-against-men-sounds-like-am...   \n",
       "2  kim-jong-un-would-really-hate-for-you-to-watch...   \n",
       "3  what-they-learned-from-the-scientist-was-terri...   \n",
       "4  a-bunch-of-celebrities-recorded-a-song-to-rais...   \n",
       "\n",
       "                                          share_text share_image  impressions  \\\n",
       "0  Anyone who's ever felt guilty about shopping a...         NaN         3052   \n",
       "1  If you ever wondered, \"but what about the men?...         NaN         3526   \n",
       "2                                                NaN         NaN         3910   \n",
       "3                                                NaN         NaN         4594   \n",
       "4  Powerful quotes from the musician who turned d...         NaN         3848   \n",
       "\n",
       "   click  first_place  winner  punctuation_bool  clicks_ratio  \n",
       "0    150         True    True                 0      0.049148  \n",
       "1     90        False   False                 0      0.025525  \n",
       "2    142        False   False                 0      0.036317  \n",
       "3     51        False   False                 0      0.011101  \n",
       "4    220         True    True                 0      0.057173  "
      ]
     },
     "execution_count": 3,
     "metadata": {},
     "output_type": "execute_result"
    }
   ],
   "source": [
    "packages = pd.read_csv(\"packages_no_repeats.csv\")\n",
    "packages.head()"
   ]
  },
  {
   "cell_type": "code",
   "execution_count": 4,
   "id": "bbac7b93",
   "metadata": {},
   "outputs": [],
   "source": [
    "packages_array = np.array(packages)"
   ]
  },
  {
   "cell_type": "code",
   "execution_count": 27,
   "id": "e2a8da49",
   "metadata": {},
   "outputs": [
    {
     "name": "stdout",
     "output_type": "stream",
     "text": [
      "['You’ll Never Forget The ‘I Have A Dream’ Speech. These Kids Should Go Down In History Too.'\n",
      " 'Not Every Flash Mob Has The Guts To Do What They Did. Woah.'\n",
      " 'They Let A Rape Survivor Tell Her Story. But Then They Took 2 Steps Backward.'\n",
      " 'How To Easily Avoid Every New Parent’s Worst Nightmare'\n",
      " \"A Football Player Hit His Wife On Video. America Saw It. And Now America's Telling Her What To Do.\"\n",
      " \"Meet Some People Who Actually Want You To Go To Prison. You'll Be Shocked At Why. Or Not.\"\n",
      " \"It's The 4th Biggest Illegal Industry In The World, And In 11 Years, It Will Destroy Itself\"\n",
      " \"Don't Freak Out At This Map On Infectious Diseases In The World. It's Good Stuff To Know.\"\n",
      " \"What Does Trendy Jewelry Have To Do With Her Grandfather's Life's Work? Just You Wait.\"\n",
      " 'Any Girl Who Has Skipped School For No Good Reason Definitely Hasn’t Seen These Numbers'\n",
      " \"She's Been Threatened And Called A Traitor. All For Being A Doctor.\"\n",
      " 'Give A Girl A Book And Strange And Wonderful Things Start To Happen. Just Watch.'\n",
      " 'A Little Reminder For Some Of The White Folks I See On Facebook Talking About Race And Cops'\n",
      " \"Some Numbers Tell Us Why Any Girl Lucky Enough To Go To School Shouldn't Be Skipping Class\"\n",
      " 'When She Asked Him About Bullying, He Gave Her Exactly The Answer She Deserved'\n",
      " 'A Girl Asks A TV Star An Adorable Question About Growing Up. His Answer Is So Sweet And Perfect.'\n",
      " 'When People Say, \"But What About The Riots,\" Just Show Them This'\n",
      " 'For Many Girls Around The World, A Better Life Could Be As Easy As 123 and ABC... Literally'\n",
      " 'There’s Nothing Funny About Ferguson. But This Parody Makes It Hard Not To Laugh.'\n",
      " 'Something Alive Is Moving About Half Of The Water In The Oceans'\n",
      " \"This Is Not Your Typical 'Inspiration Porn' Story About A Man With A Disability. This Is Reality.\"\n",
      " 'I Went To The White House Summit On Student Travel And I Liked What I Heard'\n",
      " 'Imagine Someone Asking You, \"Why Are You The Way You Are?\" Watch This Person Answer It Perfectly.'\n",
      " 'Some Anti-Abortion Protestors Learn Some Abortion Facts From A Justifiably Angry Pregnant Woman'\n",
      " \"Here's A Good Reason To Eat All The Bacon You Want Almost Every Day Of The Week\"\n",
      " 'You Should Have Seen The Face I Made When I Realized How These Evil Companies Are Making Money'\n",
      " \"If A Celebrity Like Samuel L. Jackson Puts This Out There, You Know It's Going To Be Big ...\"\n",
      " \"When A Celebrity Like Samuel L. Jackson Puts This Out There, You Know It's Going To Go Big\"\n",
      " 'No One Has Ever Built A Resort In The Grand Canyon. Will These Guys Be The First?'\n",
      " \"It's Usually Not Good To Use Toys To Help Kids Fit In. But A Scientist Found The Right Way To Do It.\"\n",
      " \"If You've Ever Wondered What Love Actually Looks Like, I'd Suggest You Take A Gander At These Women\"\n",
      " 'Why Spanking Your Kid Might Not Be The Best Thing To Do If You Want Them To Succeed At Life'\n",
      " 'I Challenge You To Watch This And Not See Love Every Time They Look At Each Other.'\n",
      " \"48 Years Ago It Must've Been *The Real Thing* For These Ladies. It Had To Be.\"\n",
      " \"A Brilliant Scientist Created The Coolest Toy Ever For This Kid So He Wouldn't Feel Left Out\"\n",
      " 'What Really Happens When Women Are The Only Ones In Charge Of The Cash'\n",
      " 'She Tried To Relate To Him By Saying That Her Brother Got Their Filipino Nanny Pregnant. Bad Idea.'\n",
      " \"Find Out The Fastest And Saddest Way To Shrink A Child's Heart. Literally.\"\n",
      " \"Watch A Coach’s Locker Room Speech That Is Unlike Any You've Heard Before\"\n",
      " 'If Anything Can Talk Us Out Of Buying Strawberries In January, It’s This Infographic'\n",
      " 'The First 26 Seconds Are Just Upsetting. But After That? It Warmed My Heart.'\n",
      " 'Think Violence Against Women Isn’t A Big Deal? Here’s Where That Thought Might Have Come From.'\n",
      " \"10 Things You Probably Didn't Know About Vaginas\"\n",
      " \"Been Feeling Irritable And Exceptionally Lazy? Acting Like You're Drunk? Here's How To Fix That.\"\n",
      " 'The First 26 Seconds Are Difficult. But After That? 745 People Made My Day.'\n",
      " \"A Brilliant Scientist Created The Coolest Toy Ever For Some Kids So They Wouldn't Feel Left Out\"\n",
      " \"It's Not Just Hunger Anymore. There's A Bigger, Badder Problem Starting To Encompass All That.\"\n",
      " 'Further Proof That Being Born A White Man Is A Bit Like Hitting The Lottery'\n",
      " 'A Tampon Commercial That Shows Just How Confusing Actual Tampon Commercials Are'\n",
      " 'If She Gets Her Way, Poverty-Stricken Children Will Have Better Options Than What They Have Now'\n",
      " \"These Differing Takes On 'The Talk' Suggest We Live In 2 Different Americas.\"\n",
      " \"You're Not Allowed To Make Jokes About This Holiday Anymore. Thanks.\"\n",
      " \"This Holiday Was Invented In 1965 But That Doesn't Mean It's Not Real. Okay?\"\n",
      " 'The Pay Gap Graphic That Shocked The Heck Out Of Me'\n",
      " 'I Didn’t Realize How Wrong ‘Baby It’s Cold Outside’ Was Until I Heard This Version'\n",
      " \"45 Seconds In, And Suddenly I'm Doubting Everything I Thought I Knew About The Holidays\"\n",
      " \"Everybody Does It Around The Holidays. Here's Why Everyone Should Stop.\"\n",
      " 'This Professor Says We Spend 40% Of Our Lives Doing Something That Could Hurt Us For A Good Reason'\n",
      " 'Quite Possibly The Most Heartwarming Story To Come Out Of All The Ferguson Sadness'\n",
      " 'He Talks About His Dog So Matter-Of-Factly, You Almost Forget How Truly Remarkable She Is'\n",
      " 'Watch It. Listen To The Guys. Watch It Again. Listen To The Women. Then Listen To The Women Again.'\n",
      " \"Feel Kinda Down About Climate Change? Here's 1 Easy Way To Help.\"\n",
      " 'The Jokey Ad That Has People Outraged At A Popular Clothing Store'\n",
      " 'Why Kim Kardashian Might Want To Make Some Big New Year’s Resolutions'\n",
      " 'Can Feminists Retire In 2015? Let’s Look At The Evidence.'\n",
      " 'Did You Catch All These Events And News Stories In 2014?'\n",
      " '3 Ladies Having Too Much Fun At The Epicenter Of A Disaster'\n",
      " \"They're Calling This Actor And Former High School Teacher 'The Next Harry Belafonte' — I Get It\"\n",
      " \"I Wish This Actor Could Come To Dinner With Me ... And Not Because He's Insanely Handsome\"\n",
      " 'A Really Wild Look At What It Takes To Build A Human'\n",
      " 'When He Calls On Us To Step Forward Instead Of Back, I Want Very Much To High Five This Handsome Man'\n",
      " \"If 'Walter White' Had Been 'Walter Black,' And Other Observations On White Privilege In TV\"\n",
      " \"If Video Games Were More Like Real Life, Here's What Call Of Duty \\u200bMight\\u200b Look Like\"\n",
      " 'Amy Schumer Plays A Realistic Video Game And Has A Frighteningly Realistic Experience'\n",
      " \"Here's A Riddle That No One Alive Today Will Ever Answer, But It's Still Worth A Try\"\n",
      " 'A Comic That Explains Exactly How To Discuss Rape'\n",
      " 'What Would The Minimum Wage Be If It Kept Up All These Years? I Wish The Answer Were Less Shocking.'\n",
      " \"I Haven't Met The People Who Made This Clip, But It's One Of My Top Priorities For Next Year.\"\n",
      " \"She Tries Playing A Video Game Using A Female Avatar. Brace Yourself. You'll Be Smacked By Reality.\"\n",
      " \"There's Thousands Of 'Unreported Lynchings' In Classrooms Each Year. Victims Are As Young As 5.\"\n",
      " 'Seeing No Good Treatments, A Doctor Tried Something So Crazy It Might Just Work'\n",
      " 'Kids These Days Are Used To Hearing A School Announcement You’d Find Alarming'\n",
      " 'Patrick Gave Up On Human Connection. See What A Difference Sign Language Class Made.'\n",
      " \"A 10 Week Class To Changed Patrick's Life. What He Gained Is Something We All Take For Granted.\"\n",
      " 'This Alaskan Village Should Be The Role Model For American Cities'\n",
      " \"She Was The Quarterback Of Her High School Football Team. Here's What Happened When She Came Home.\"\n",
      " 'After Spending Time In Space This Is How He Feels About Our Chances Down Here'\n",
      " 'This Doesn’t Sound Like The MLK I Learned About In School'\n",
      " 'If This Video Existed When I Was A Kid, I Might Be Working For NASA Instead Of Upworthy Right Now'\n",
      " 'Guess Which Country Totally Closed The Gender Gap. Guess Again.'\n",
      " \"49 Kids Say What It Means To Be A 'Nice Person.' These Are Genius.\"\n",
      " \"There Are No Words, But It's Easy To Hear Poverty\"\n",
      " \"We Made It Up. But It's Still Matters And We Can Change It If We Want To.\"\n",
      " 'He Was Unfairly Singled Out By The Cops. What He Asked For In Response Is Pretty Amazing.'\n",
      " 'The Bizarre Human Tendency That Drew Us To Her Frightening Story Reveals So Much About Humanity'\n",
      " \"2 Guys Were Challenged To Come Up With 'The Gayest Song Ever'. Here's The Result.\"\n",
      " 'An Actress Reveals Why It’s Hard To Make Films About Women Who Aren’t Obsessed With Men'\n",
      " \"Today's Attack In Paris Probably Didn't Come Out Of Nowhere\"\n",
      " 'The Way Stuart Scott Smacked Down A Racist ESPN Exec In The 90s Was Pure Genius'\n",
      " \"A Boy Said She Was Too Ugly To Touch. She Believed It For 10 Years. Here's What She Has To Say Now.\"\n",
      " \"It's Remarkable That Men Have Been Around All This Time And Still Can't Shake The Habit\"\n",
      " 'Watch An Incredible Spoken Word Poem About A Little Girl Facing More Borders Than Anyone Can Cross'\n",
      " \"When They Left, Her Parents Thought She'd Grow Up Without Fear. They Were Wrong.\"\n",
      " \"The Story Starts When She's A Baby And Ends When She's 16. Every Step Is Just So Heartbreaking.\"\n",
      " \"Her Classmates Don't Know What Makes Her Different, But They Know How To Make It Hurt\"\n",
      " 'When She Meets With Her Guidance Counselor, A Devastating Reality Hits Her In The Face'\n",
      " \"Meet The Girl Who's Left To Deal With Decades Of Built-Up Hostility And Prejudice\"\n",
      " 'Jon Stewart Takes On The Terrorist Attack Against Charlie Hedbo'\n",
      " \"The 11 Things People Who Make Short Bus Jokes Probably Don't Do\"\n",
      " 'Jon Stewart Takes On The Terrorist Attack On Charlie Hedbo'\n",
      " 'Jon Stewart Says What Needs To Be Said About The Terrorists Who Attacked Charlie Hedbo'\n",
      " \"The Hard Facts About A Guy Issue Known As 'Morning Wood'\"\n",
      " \"I Usually Can't Stand Yearly Recap Videos, But The One You're About To See Is Kleenex-Worthy\"\n",
      " \"Beautiful, Moving, And Kleenex-Worthy. I Usually Hate Yearly Recap Videos But This One's Different.\"\n",
      " \"A 'Game Of Thrones' Star Opens Up About What She Goes Through Online, And My Heart Hurts\"\n",
      " 'This School Turned Everything Upside-Down, And The Results Have Got My Eyes All Wet'\n",
      " 'After Ferguson, We All Need A Movie Like Selma ... And Guess Who’s Behind It?'\n",
      " \"He's Into Both Dudes And Chicks. So When He Said He'd Answer Their Questions, He Got A TON Of Them.\"\n",
      " 'What Happens If You Try To Kill Yourself And Survive?'\n",
      " \"What Happens When A Non Dog-Person Meets A Pit Bull For The First Time? Hint: It's Not Violent.\"\n",
      " 'Banned From The Front Row At Oprah Because They Had The Wrong Eye Color. Really.'\n",
      " 'At 17 He Goes To School, Gets Picked Up By His Mom - Oh And Saves Lives (Maybe Even Yours)'\n",
      " 'A Guy Gets Stood Up By His Date Then Leaves Us With A Lesson About The Pros And Cons Of Wine'\n",
      " 'One Woman Speaks Honestly About The Privilege She Has Noticed Because Of Her Skin Color.'\n",
      " 'Some People Have A Really Hard Time Admitting What She Admits To Here'\n",
      " \"A Celebrity Spends 2 Minutes Talking About How To Think About Death. It's Beautiful.\"\n",
      " 'A 6-Year-Old Asks \\u200bNeil DeGrasse Tyson An Adorable Question. He Gives Her An Awesome Answer.'\n",
      " 'New York, LA And San Francisco All Have 1 Really Annoying Thing In Common'\n",
      " 'If You Give Homeless People Homes, Are They Still Homeless? This Daily Show Reporter Wants To Know.'\n",
      " \"He Asks The Question 10 Times, Because He Just Can't Believe How This City Solved Homelessness\"\n",
      " 'Siblings Stuck In The Foster Care System Find Beautiful Ways To Get Back Together'\n",
      " 'A Brother And A Sister Live In Different Homes But Can See Each Other All The Time Thanks To This'\n",
      " 'A Brother And A Sister Got Split Up In The Foster System, So Some Folks Are Trying To Help'\n",
      " \"The Stuff Siblings In The Foster Care System Have To Deal With Is Awful. Glad They're Getting Help.\"\n",
      " 'She Gave A Boy And A Girl 2 Notebooks And Asked Them To Draw. Their Feelings Just Came Straight Out.'\n",
      " \"How Many Miles Would You Walk For The Right To Vote? It's 50 Years Later, But We Need To Remember.\"\n",
      " \"Watch The 2nd Guy In The First 15 Seconds. Now Don't Be Anything Like Him.\"\n",
      " \"Yeah, It's Fake. Really Really Fake. But It's So Important.\"\n",
      " \"Why's This Guy Struggling To Get A Date? The Reason Is Beyond Gross.\"\n",
      " 'This Researcher Thinks He Knows Why Your Boss Is A Jerk'\n",
      " 'Watch A Supercut Showing Why Red Carpet Coverage Should Be Ashamed Of Itself'\n",
      " \"A Farmer Started Talking About Saving Water Until Water Poured From His Eyes. That's When A Shark Bit.\"\n",
      " \"Some Might See These Ladies As Novelties, But They're As Real As It Gets. Just Ask Em'.\"\n",
      " 'When Billie Holiday Performed This Song Live, They Never Allowed An Encore'\n",
      " 'I Thought I Had Seen It All Until Alabama Started Taking Pregnant Teens To Court'\n",
      " \"A Dangerous Form Of 'Therapy' That, Believe It Or Not, Is Legal In 48 States\"\n",
      " 'A Group Of Black Men Ask A Question That Sums Up So Many Problems In Our Society'\n",
      " 'This Scares The Hell Out Of Me. World Leaders Are About To Give Away The Keys To The Internet.'\n",
      " 'Where Some People See Individual Trees Struggling To Survive, She Sees A Thriving, Connected Family'\n",
      " \"I Know You've Heard This Song. But Have You Ever Really Tried To Imagine It?\"\n",
      " \"One Of The Biggest Enemies To Feminism Is Not A Person. It's Printed On Cheap Paper.\"\n",
      " \"Bieber's Junk Was Splashed Over The Net. Here's Why His Junk Was The Least Offensive Part.\"\n",
      " 'Who’s Really To Blame For The Ridiculous Amounts Of Trash We Produce?'\n",
      " 'Ha. Good Luck Getting Any Of *These* Fantastic Women To Care What You Think.'\n",
      " 'A Climber, Musician, Programmer, Pilot, Calligrapher, And Journalist With 1 Badass Thing In Common'\n",
      " 'You May Not Know About These Awesome Women Yet, But 2 Minutes From Now, You’ll Be Glad You Do'\n",
      " 'Exactly 1 Thing Affects Your Happiness More Than Anything Else, No Matter Who You Are'\n",
      " \"A Doctor's Advice For Inner Happiness Is So Easy I Wasn't A Believer Until I Tried It\"\n",
      " 'They Were Sentenced To Prison For Marrying Each Other. But Then, They Fought Back.'\n",
      " 'Why Are These TV Award Winners Such A Big Deal? Take A Closer Look.'\n",
      " 'They Were Sentenced To Prison For Marrying Each Other. You Read That Right.'\n",
      " \"He Doesn't Fit Into A Single Category — But That's Sure Not Slowing Him Down\"\n",
      " 'Why 98% of Her Potential Boyfriends Broke Up With Her'\n",
      " 'A Wrestler Is Helping People See That Anyone Can Be A Feminist'\n",
      " '75% Of Job Success Is Predicted By Something Other Than IQ'\n",
      " \"There Have Been A Lot Of Studies On Fluoride In The Water. Here's All The 'Scary Stuff' They Found.\"\n",
      " 'You Can Rewire Your Brain In 2 Minutes A Day. Without An App.'\n",
      " \"Here's A Talk On How To Be Amazing At Work. There's a 7% Chance You Will Share It With Your Boss.\"\n",
      " 'They Were Bullied And Two Words Were Just Part Of It. Now They Are Turning The Tables In Their Town.'\n",
      " \"The Carnegies And Rockefellers Tried To Silence Him With Jail Time. That Didn't Work So Well.\"\n",
      " 'After Seeing His Mom Harassed By Men, This Little Kid Decided To Send A Big Message Out To The World'\n",
      " \"This Harvard Guy Loves Studying 'Weirdos'. Hear What He's Learned So Far In This Popular TED Talk\"\n",
      " 'At First He Believed, Too. But Now When He Talks About The Lambs, He Has To Choke Back Tears.'\n",
      " 'Our Taxes Are Going Toward The Cruelest Treatment Of Animals You’d Never Want To Imagine'\n",
      " 'Watch How This Woman Plans On Turning Black History Month Into A Drinking Game'\n",
      " 'He Was About To Die So They Took Him To The ER. But Not The Next Time Or The Time After. Why?'\n",
      " 'The Guy Behind The Edward Snowden Leaks Asks A Really Obvious Question We Need To Answer'\n",
      " \"You'd Think Parents Would Want Their Kids To Do Their Exams. Not These. They've Got A Good Reason.\"\n",
      " 'When Some See His Hands They May Hesitate, But Soon All They Can Say Is ‘How Did They Do That?’'\n",
      " \"She's Not A Plus Size Model, She's A Model. And She's In The Sports Illustrated Swimsuit Edition.\"\n",
      " 'Tens Of Thousands Of Animals Have Been Unlucky Enough To Come Here. How Do These People Sleep?'\n",
      " \"She Doesn't Just Kick Butt On TV. She's Involved In Helping Rape Victims In Real Life, Too.\"\n",
      " 'Thousands Of Animals Have Been Unlucky Enough To Find Themselves Here. How Do These People Sleep?'\n",
      " 'Deciding To Work Together Was Everything. Now They’re One Big, Caffeinated Family.'\n",
      " 'Beyoncé Had A Moment With Ed McMahon That Fueled Her Success, But It Also Hit Her Differently Later'\n",
      " 'A Football Team Is Taking Their Towels Off To Show Men How To Check For Cancer'\n",
      " 'They Don’t Just Drink It To Get Through The Day. It IS The Day.'\n",
      " \"This Epic Response To 'Fat People Can't Be Sexy' Is Slightly Not Safe For Work But So Worth It\"\n",
      " \"She's Discovered A Secret About Mother Trees That Will Totally Change How You Think About Forests\"\n",
      " 'These Huge Stars Took Their Big Night And Made It About This Important Movement'\n",
      " 'Famous Musicians Have Some Awesome Messages For Teens. You Should Really Hear These.'\n",
      " \"That Woman Is What Happiness Looks Like When You Buy It. Here's How We Can Avoid Being Like Her.\"\n",
      " 'These Little Guys Would Be Dead Without These Prisoners. Hear Their Story.'\n",
      " \"What's One Of The WORST Ways To Motivate Someone? Hint: You See It ALL The Time.\"\n",
      " 'It Took 9 Years, 6 Degrees Of Separation And 1 Game For This Guy To Accept His Friend Was Gone'\n",
      " 'This Is A Surprisingly Delightful Way To Look At Death'\n",
      " \"A Basketball Game Gave Him The Sign That People We've Lost Live In Really Enlightening Ways\"\n",
      " 'After Hearing How This Guy Deals With Death I Feel Like Hugging A Basketball'\n",
      " 'They Were Going To Kill This Doggie Mama. Instead They Sent Her To Prison.'\n",
      " \"Dogs Are Getting Sent To Prison And I Ain't Even Mad About It\"]\n"
     ]
    }
   ],
   "source": [
    "headlines = packages_array[:,4]\n",
    "print(headlines[100:300])"
   ]
  },
  {
   "cell_type": "code",
   "execution_count": 28,
   "id": "64dfe6c6",
   "metadata": {},
   "outputs": [],
   "source": [
    "for index in range(packages_array.shape[0]):\n",
    "    if \"?\" in str(headlines[index]):\n",
    "        packages_array[index,-2] = 1\n",
    "    elif \"!\" in str(headlines[index]):\n",
    "        packages_array[index,-2] = 1\n",
    "    elif \"...\" in str(headlines[index]):\n",
    "        packages_array[index,-2] = 1\n",
    "    elif \"-\" in str(headlines[index]):\n",
    "        packages_array[index,-2] = 1\n",
    "    \n",
    "    else:\n",
    "        packages_array[index,-2] = 0"
   ]
  },
  {
   "cell_type": "code",
   "execution_count": 29,
   "id": "1060e529",
   "metadata": {},
   "outputs": [
    {
     "name": "stdout",
     "output_type": "stream",
     "text": [
      "65363\n"
     ]
    }
   ],
   "source": [
    "print(packages_array.shape[0])"
   ]
  },
  {
   "cell_type": "code",
   "execution_count": 30,
   "id": "ec9cf42c",
   "metadata": {},
   "outputs": [
    {
     "data": {
      "text/plain": [
       "'Kim Jong Un Would Really Hate For You To Watch This Which Is Exactly Why You Should'"
      ]
     },
     "execution_count": 30,
     "metadata": {},
     "output_type": "execute_result"
    }
   ],
   "source": [
    "headlines[2]"
   ]
  },
  {
   "cell_type": "code",
   "execution_count": 31,
   "id": "65ec3bcb",
   "metadata": {},
   "outputs": [
    {
     "data": {
      "text/plain": [
       "0"
      ]
     },
     "execution_count": 31,
     "metadata": {},
     "output_type": "execute_result"
    }
   ],
   "source": [
    "packages_array[index,-2]"
   ]
  },
  {
   "cell_type": "code",
   "execution_count": 32,
   "id": "eb0ca131",
   "metadata": {},
   "outputs": [
    {
     "name": "stdout",
     "output_type": "stream",
     "text": [
      "[0 0 0 ... 0 0 0]\n"
     ]
    }
   ],
   "source": [
    "print(packages_array[:,-2])"
   ]
  },
  {
   "cell_type": "code",
   "execution_count": 34,
   "id": "30811de0",
   "metadata": {},
   "outputs": [],
   "source": [
    "packages_df = pd.DataFrame(data=packages_array, columns=[\"0\",\"created_at\", \"test_week\", \"test_id\", \"headline\", \"image_id\", \"excerpt\", \"lede\", \"slug\", \"share_text\", \"share_image\", \"impressions\", \"click\", \"first_place\", \"winner\", \"punctuation_bool\", \"clicks_ratio\"])\n"
   ]
  },
  {
   "cell_type": "code",
   "execution_count": 35,
   "id": "4eaadbe7",
   "metadata": {},
   "outputs": [],
   "source": [
    "packages_df.to_csv(\"packages_with_punctuation_bool.csv\")"
   ]
  },
  {
   "cell_type": "code",
   "execution_count": 36,
   "id": "3089bda8",
   "metadata": {},
   "outputs": [
    {
     "data": {
      "text/html": [
       "<div>\n",
       "<style scoped>\n",
       "    .dataframe tbody tr th:only-of-type {\n",
       "        vertical-align: middle;\n",
       "    }\n",
       "\n",
       "    .dataframe tbody tr th {\n",
       "        vertical-align: top;\n",
       "    }\n",
       "\n",
       "    .dataframe thead th {\n",
       "        text-align: right;\n",
       "    }\n",
       "</style>\n",
       "<table border=\"1\" class=\"dataframe\">\n",
       "  <thead>\n",
       "    <tr style=\"text-align: right;\">\n",
       "      <th></th>\n",
       "      <th>0</th>\n",
       "      <th>created_at</th>\n",
       "      <th>test_week</th>\n",
       "      <th>test_id</th>\n",
       "      <th>headline</th>\n",
       "      <th>image_id</th>\n",
       "      <th>excerpt</th>\n",
       "      <th>lede</th>\n",
       "      <th>slug</th>\n",
       "      <th>share_text</th>\n",
       "      <th>share_image</th>\n",
       "      <th>impressions</th>\n",
       "      <th>click</th>\n",
       "      <th>first_place</th>\n",
       "      <th>winner</th>\n",
       "      <th>punctuation_bool</th>\n",
       "      <th>clicks_ratio</th>\n",
       "    </tr>\n",
       "  </thead>\n",
       "  <tbody>\n",
       "    <tr>\n",
       "      <th>0</th>\n",
       "      <td>0</td>\n",
       "      <td>20/11/2014</td>\n",
       "      <td>17/11/2014</td>\n",
       "      <td>546d88fb84ad38b2ce000024</td>\n",
       "      <td>They're Being Called 'Walmart's Worst Nightmar...</td>\n",
       "      <td>546d6fa19ad54eec8d00002d</td>\n",
       "      <td>Things that matter. Pass 'em on.</td>\n",
       "      <td>&lt;p&gt;When I saw *why* people are calling them \"W...</td>\n",
       "      <td>theyre-being-called-walmarts-worst-nightmare-a...</td>\n",
       "      <td>Anyone who's ever felt guilty about shopping a...</td>\n",
       "      <td>NaN</td>\n",
       "      <td>3052</td>\n",
       "      <td>150</td>\n",
       "      <td>True</td>\n",
       "      <td>True</td>\n",
       "      <td>0</td>\n",
       "      <td>0.049148</td>\n",
       "    </tr>\n",
       "    <tr>\n",
       "      <th>1</th>\n",
       "      <td>3</td>\n",
       "      <td>20/11/2014</td>\n",
       "      <td>17/11/2014</td>\n",
       "      <td>546d902c26714c6c44000039</td>\n",
       "      <td>This Is What Sexism Against Men Sounds Like</td>\n",
       "      <td>546bc55335992b86c8000043</td>\n",
       "      <td>Things that matter. Pass 'em on.</td>\n",
       "      <td>&lt;p&gt;DISCLOSURE: I'm a dude. I have cried on mul...</td>\n",
       "      <td>this-is-what-sexism-against-men-sounds-like-am...</td>\n",
       "      <td>If you ever wondered, \"but what about the men?...</td>\n",
       "      <td>NaN</td>\n",
       "      <td>3526</td>\n",
       "      <td>90</td>\n",
       "      <td>False</td>\n",
       "      <td>False</td>\n",
       "      <td>0</td>\n",
       "      <td>0.025525</td>\n",
       "    </tr>\n",
       "    <tr>\n",
       "      <th>2</th>\n",
       "      <td>11</td>\n",
       "      <td>20/11/2014</td>\n",
       "      <td>17/11/2014</td>\n",
       "      <td>546deb3f26714cd2dd00003a</td>\n",
       "      <td>Kim Jong Un Would Really Hate For You To Watch...</td>\n",
       "      <td>545c477e74bfe7589400000b</td>\n",
       "      <td>Things that matter. Pass 'em on.</td>\n",
       "      <td>&lt;p&gt;At age 21, Yeonmi Park is a brand new activ...</td>\n",
       "      <td>kim-jong-un-would-really-hate-for-you-to-watch...</td>\n",
       "      <td>NaN</td>\n",
       "      <td>NaN</td>\n",
       "      <td>3910</td>\n",
       "      <td>142</td>\n",
       "      <td>False</td>\n",
       "      <td>False</td>\n",
       "      <td>0</td>\n",
       "      <td>0.036317</td>\n",
       "    </tr>\n",
       "    <tr>\n",
       "      <th>3</th>\n",
       "      <td>12</td>\n",
       "      <td>20/11/2014</td>\n",
       "      <td>17/11/2014</td>\n",
       "      <td>546e009a9ad54ec65b00004b</td>\n",
       "      <td>What They Learned From The Scientist Was Terri...</td>\n",
       "      <td>546c7f2dbadeb5788700000a</td>\n",
       "      <td>Things that matter. Pass 'em on.</td>\n",
       "      <td>&lt;p&gt;Some decent guys fighting for an important ...</td>\n",
       "      <td>what-they-learned-from-the-scientist-was-terri...</td>\n",
       "      <td>NaN</td>\n",
       "      <td>NaN</td>\n",
       "      <td>4594</td>\n",
       "      <td>51</td>\n",
       "      <td>False</td>\n",
       "      <td>False</td>\n",
       "      <td>0</td>\n",
       "      <td>0.011101</td>\n",
       "    </tr>\n",
       "    <tr>\n",
       "      <th>4</th>\n",
       "      <td>18</td>\n",
       "      <td>20/11/2014</td>\n",
       "      <td>17/11/2014</td>\n",
       "      <td>546dfa4226714c0538000064</td>\n",
       "      <td>A Bunch Of Celebrities Recorded A Song To Rais...</td>\n",
       "      <td>546df33b84ad3834f000004c</td>\n",
       "      <td>Things that matter. Pass 'em on.</td>\n",
       "      <td>&lt;p&gt;In November 2014, singer/songerwriter Bob G...</td>\n",
       "      <td>a-bunch-of-celebrities-recorded-a-song-to-rais...</td>\n",
       "      <td>Powerful quotes from the musician who turned d...</td>\n",
       "      <td>NaN</td>\n",
       "      <td>3848</td>\n",
       "      <td>220</td>\n",
       "      <td>True</td>\n",
       "      <td>True</td>\n",
       "      <td>0</td>\n",
       "      <td>0.057173</td>\n",
       "    </tr>\n",
       "  </tbody>\n",
       "</table>\n",
       "</div>"
      ],
      "text/plain": [
       "    0  created_at   test_week                   test_id  \\\n",
       "0   0  20/11/2014  17/11/2014  546d88fb84ad38b2ce000024   \n",
       "1   3  20/11/2014  17/11/2014  546d902c26714c6c44000039   \n",
       "2  11  20/11/2014  17/11/2014  546deb3f26714cd2dd00003a   \n",
       "3  12  20/11/2014  17/11/2014  546e009a9ad54ec65b00004b   \n",
       "4  18  20/11/2014  17/11/2014  546dfa4226714c0538000064   \n",
       "\n",
       "                                            headline  \\\n",
       "0  They're Being Called 'Walmart's Worst Nightmar...   \n",
       "1        This Is What Sexism Against Men Sounds Like   \n",
       "2  Kim Jong Un Would Really Hate For You To Watch...   \n",
       "3  What They Learned From The Scientist Was Terri...   \n",
       "4  A Bunch Of Celebrities Recorded A Song To Rais...   \n",
       "\n",
       "                   image_id                           excerpt  \\\n",
       "0  546d6fa19ad54eec8d00002d  Things that matter. Pass 'em on.   \n",
       "1  546bc55335992b86c8000043  Things that matter. Pass 'em on.   \n",
       "2  545c477e74bfe7589400000b  Things that matter. Pass 'em on.   \n",
       "3  546c7f2dbadeb5788700000a  Things that matter. Pass 'em on.   \n",
       "4  546df33b84ad3834f000004c  Things that matter. Pass 'em on.   \n",
       "\n",
       "                                                lede  \\\n",
       "0  <p>When I saw *why* people are calling them \"W...   \n",
       "1  <p>DISCLOSURE: I'm a dude. I have cried on mul...   \n",
       "2  <p>At age 21, Yeonmi Park is a brand new activ...   \n",
       "3  <p>Some decent guys fighting for an important ...   \n",
       "4  <p>In November 2014, singer/songerwriter Bob G...   \n",
       "\n",
       "                                                slug  \\\n",
       "0  theyre-being-called-walmarts-worst-nightmare-a...   \n",
       "1  this-is-what-sexism-against-men-sounds-like-am...   \n",
       "2  kim-jong-un-would-really-hate-for-you-to-watch...   \n",
       "3  what-they-learned-from-the-scientist-was-terri...   \n",
       "4  a-bunch-of-celebrities-recorded-a-song-to-rais...   \n",
       "\n",
       "                                          share_text share_image impressions  \\\n",
       "0  Anyone who's ever felt guilty about shopping a...         NaN        3052   \n",
       "1  If you ever wondered, \"but what about the men?...         NaN        3526   \n",
       "2                                                NaN         NaN        3910   \n",
       "3                                                NaN         NaN        4594   \n",
       "4  Powerful quotes from the musician who turned d...         NaN        3848   \n",
       "\n",
       "  click first_place winner punctuation_bool clicks_ratio  \n",
       "0   150        True   True                0     0.049148  \n",
       "1    90       False  False                0     0.025525  \n",
       "2   142       False  False                0     0.036317  \n",
       "3    51       False  False                0     0.011101  \n",
       "4   220        True   True                0     0.057173  "
      ]
     },
     "execution_count": 36,
     "metadata": {},
     "output_type": "execute_result"
    }
   ],
   "source": [
    "#dropping rows with the same headlines\n",
    "\n",
    "packages_no_repeats = packages_df.drop_duplicates(subset=['headline'], keep='first')\n",
    "\n",
    "packages_no_repeats.head()"
   ]
  },
  {
   "cell_type": "code",
   "execution_count": 37,
   "id": "8b856575",
   "metadata": {},
   "outputs": [],
   "source": [
    "packages_no_repeats.to_csv(\"packages_no_repeats.csv\")"
   ]
  },
  {
   "cell_type": "code",
   "execution_count": 38,
   "id": "1061dca6",
   "metadata": {},
   "outputs": [],
   "source": [
    "x_clicks = packages_array[:,-1]\n",
    "y_question_bool = packages_array[:,-2]"
   ]
  },
  {
   "cell_type": "code",
   "execution_count": 86,
   "id": "be21b031",
   "metadata": {},
   "outputs": [
    {
     "data": {
      "text/plain": [
       "Text(0.5, 1.0, 'Clicks ratio vs. Punctuation Marks')"
      ]
     },
     "execution_count": 86,
     "metadata": {},
     "output_type": "execute_result"
    },
    {
     "data": {
      "image/png": "[encoded data removed]",
      "text/plain": [
       "<Figure size 432x288 with 1 Axes>"
      ]
     },
     "metadata": {
      "needs_background": "light"
     },
     "output_type": "display_data"
    }
   ],
   "source": [
    "plt.figure()\n",
    "plt.plot(x_clicks,y_question_bool,'x',markersize='8.0',color=\"blue\")\n",
    "plt.xlabel(\"Clicks ratio, $r$\")\n",
    "plt.ylabel(\"Headline contains punctuation mark\")\n",
    "plt.yticks([1.0, 0.0], [\"True\",\"False\"])\n",
    "plt.title(\"Clicks ratio vs. Punctuation Marks\")"
   ]
  },
  {
   "cell_type": "code",
   "execution_count": 133,
   "id": "7750a1a6",
   "metadata": {},
   "outputs": [],
   "source": [
    "contains_punct = []\n",
    "no_punct = []\n",
    "# contains_punct[:,1] = np.array([])\n",
    "# no_punct = np.zeros([47403,2])\n",
    "\n",
    "for i in range(len(x_clicks)):\n",
    "    if y_question_bool[i] == 1:\n",
    "        contains_punct = contains_punct + [x_clicks[i]]\n",
    "    else:\n",
    "        no_punct = no_punct + [x_clicks[i]]\n",
    "        \n"
   ]
  },
  {
   "cell_type": "code",
   "execution_count": 175,
   "id": "b34a80d6",
   "metadata": {},
   "outputs": [
    {
     "name": "stdout",
     "output_type": "stream",
     "text": [
      "0.01365834299571757\n",
      "0.012745123377728283\n"
     ]
    },
    {
     "data": {
      "image/png": "[encoded data removed]",
      "text/plain": [
       "<Figure size 432x288 with 1 Axes>"
      ]
     },
     "metadata": {
      "needs_background": "light"
     },
     "output_type": "display_data"
    }
   ],
   "source": [
    "plt.hist(no_punct,bins=100)\n",
    "plt.hist(contains_punct,bins=100)\n",
    "plt.title(\"Punctuation Histogram\")\n",
    "plt.xlabel(\"Clicks ratio, $r$\")\n",
    "plt.ylabel(\"Number of Headlines\")\n",
    "\n",
    "print(np.average(no_punct))\n",
    "print(np.average(contains_punct))"
   ]
  },
  {
   "cell_type": "code",
   "execution_count": 174,
   "id": "36d2b6e2",
   "metadata": {},
   "outputs": [
    {
     "data": {
      "text/plain": [
       "(-0.0015, 0.036)"
      ]
     },
     "execution_count": 174,
     "metadata": {},
     "output_type": "execute_result"
    },
    {
     "data": {
      "image/png": "[encoded data removed]",
      "text/plain": [
       "<Figure size 432x288 with 2 Axes>"
      ]
     },
     "metadata": {
      "needs_background": "light"
     },
     "output_type": "display_data"
    }
   ],
   "source": [
    "fig, (ax1,ax2) = plt.subplots(1,2, tight_layout=True)\n",
    "# plt.subplots_adjust(left=1, bottom=None, right=None, top=None, wspace=None, hspace=None)\n",
    "ax1.set_title('No Punctuation in Headline')\n",
    "ax2.set_title('Headline Contains Punctuation')\n",
    "\n",
    "ax1.boxplot(no_punct, showfliers=False)\n",
    "ax2.boxplot(contains_punct,showfliers=False)\n",
    "ax1.set_ylabel('Clicks ratio, $r$')\n",
    "ax2.set_ylabel('Clicks ratio, $r$')\n",
    "ax2.set_ylim(-0.0015, 0.036)\n",
    "# ax1.set_xlabel('$x$')"
   ]
  },
  {
   "cell_type": "code",
   "execution_count": 40,
   "id": "78061053",
   "metadata": {},
   "outputs": [
    {
     "data": {
      "text/plain": [
       "(array([0.0491481, 0.025524674, 0.036317136, ..., 0.006287227, 0.010836438,\n",
       "        0.010081916], dtype=object),\n",
       " array([0, 0, 0, ..., 0, 0, 0], dtype=object))"
      ]
     },
     "execution_count": 40,
     "metadata": {},
     "output_type": "execute_result"
    }
   ],
   "source": [
    "x_clicks, y_question_bool"
   ]
  },
  {
   "cell_type": "code",
   "execution_count": 41,
   "id": "9fbc399c",
   "metadata": {},
   "outputs": [],
   "source": [
    "# for y in y_question_bool:\n",
    "#     if y == True:\n",
    "#         y = 1\n",
    "#     if y == False:\n",
    "#         y = 0"
   ]
  },
  {
   "cell_type": "code",
   "execution_count": 42,
   "id": "b9097bb6",
   "metadata": {},
   "outputs": [],
   "source": [
    "# y_question_bool_reverse = np.zeros(y_question_bool.shape[0])\n",
    "\n",
    "# for i in range(y_question_bool.shape[0]):\n",
    "#     y_question_bool_reverse[i] = np.abs(y_question_bool[i] - 1)\n",
    "    \n",
    "# print(y_question_bool_reverse)\n",
    "# print(y_question_bool)\n",
    "\n",
    "# plt.figure()\n",
    "# plt.plot(x_clicks,y_question_bool_reverse,'.')"
   ]
  },
  {
   "cell_type": "code",
   "execution_count": 43,
   "id": "12395a5d",
   "metadata": {},
   "outputs": [],
   "source": [
    "from sklearn.datasets import make_classification\n",
    "from matplotlib import pyplot as plt\n",
    "from sklearn.linear_model import LogisticRegression\n",
    "from sklearn.model_selection import train_test_split\n",
    "from sklearn.metrics import confusion_matrix"
   ]
  },
  {
   "cell_type": "code",
   "execution_count": 44,
   "id": "6d55ef59",
   "metadata": {},
   "outputs": [
    {
     "name": "stdout",
     "output_type": "stream",
     "text": [
      "[[0.005220884]\n",
      " [0.016104869]\n",
      " [0.007898894]\n",
      " ...\n",
      " [0.00734355]\n",
      " [0.00265252]\n",
      " [0.002309469]]\n",
      "[1 0 0 0 1 1 0 0 0 0 1 0 0 1 0 1 1 1 0 0 0 0 0 1 0 0 1 0 0 0 1 0 0 0 0 0 0\n",
      " 0 0 0 0 0 0 1 0 0 0 0 1 0 1 0 0 0 1 1 0 0 0 0 1 1 0 0 0 0 1 0 1 0 0 0 0 0\n",
      " 0 1 0 1 1 0 0 0 0 0 0 0 0 0 0 1 0 0 0 0 1 0 1 0 0 1]\n"
     ]
    }
   ],
   "source": [
    "x_clicks_array = np.array(x_clicks)\n",
    "y_question_bool_array = np.array(y_question_bool)\n",
    "\n",
    "x_clicks_array.reshape(1, -1)\n",
    "y_question_bool_array.reshape(1, -1)\n",
    "\n",
    "x_train, x_test, y_train, y_test = train_test_split(x_clicks_array, y_question_bool_array, random_state=None, shuffle=True)\n",
    "\n",
    "x_train= x_train.reshape(-1, 1)\n",
    "# y_train= y_train.reshape(113112, )\n",
    "x_test = x_test.reshape(-1, 1)\n",
    "# y_test = y_test.reshape(-1, 1)\n",
    "\n",
    "print(x_train)\n",
    "print(y_train[0:100])\n"
   ]
  },
  {
   "cell_type": "code",
   "execution_count": 45,
   "id": "fbba2430",
   "metadata": {},
   "outputs": [],
   "source": [
    "# for y in y_train:\n",
    "#     if y == True:\n",
    "#         y = 1\n",
    "#     else:\n",
    "#         y = False\n",
    "        \n",
    "# for y in y_test:\n",
    "#     if y == True:\n",
    "#         y = 1\n",
    "#     else:\n",
    "#         y = False\n",
    "\n",
    "\n",
    "y_train=y_train.astype('int')\n",
    "y_test=y_test.astype('int')"
   ]
  },
  {
   "cell_type": "code",
   "execution_count": 46,
   "id": "6b87815b",
   "metadata": {},
   "outputs": [
    {
     "data": {
      "text/plain": [
       "(49022,)"
      ]
     },
     "execution_count": 46,
     "metadata": {},
     "output_type": "execute_result"
    }
   ],
   "source": [
    "y_train.shape"
   ]
  },
  {
   "cell_type": "code",
   "execution_count": 47,
   "id": "3df566dd",
   "metadata": {},
   "outputs": [
    {
     "data": {
      "text/plain": [
       "LogisticRegression(class_weight='balanced')"
      ]
     },
     "execution_count": 47,
     "metadata": {},
     "output_type": "execute_result"
    }
   ],
   "source": [
    "log_reg = LogisticRegression(class_weight = 'balanced')\n",
    "log_reg.fit(x_train, y_train)"
   ]
  },
  {
   "cell_type": "code",
   "execution_count": 48,
   "id": "43fc2b9d",
   "metadata": {},
   "outputs": [
    {
     "name": "stdout",
     "output_type": "stream",
     "text": [
      "[[-4.50419434]]\n",
      "[0.0594598]\n",
      "[[0.030454545]\n",
      " [0.002051768]\n",
      " [0.011865794]\n",
      " ...\n",
      " [0.024557602]\n",
      " [0.020298736]\n",
      " [0.011234316]]\n"
     ]
    }
   ],
   "source": [
    "print(log_reg.coef_)\n",
    "print(log_reg.intercept_)\n",
    "print(x_test)\n",
    "\n",
    "beta0 = log_reg.coef_\n",
    "beta1 = log_reg.intercept_"
   ]
  },
  {
   "cell_type": "code",
   "execution_count": 49,
   "id": "aeacf548",
   "metadata": {},
   "outputs": [],
   "source": [
    "y_pred = log_reg.predict(x_test)"
   ]
  },
  {
   "cell_type": "code",
   "execution_count": 226,
   "id": "6c451b4a",
   "metadata": {},
   "outputs": [
    {
     "data": {
      "image/png": "[encoded data removed]",
      "text/plain": [
       "<Figure size 1152x864 with 1 Axes>"
      ]
     },
     "metadata": {
      "needs_background": "light"
     },
     "output_type": "display_data"
    },
    {
     "name": "stdout",
     "output_type": "stream",
     "text": [
      "[[4504 7411]\n",
      " [1525 2901]]\n"
     ]
    }
   ],
   "source": [
    "from matplotlib import colors\n",
    "\n",
    "C = confusion_matrix(y_test, y_pred)\n",
    "\n",
    "cmap = colors.ListedColormap(['green','red'],['green','green'])\n",
    "\n",
    "size = 2\n",
    "data = np.arange(size * size).reshape((size, size))\n",
    "\n",
    "# Limits for the extent\n",
    "x_start = 3.0\n",
    "x_end = 9.0\n",
    "y_start = 6.0\n",
    "y_end = 12.0\n",
    "\n",
    "extent = [x_start, x_end, y_start, y_end]\n",
    "\n",
    "# The normal figure\n",
    "fig = plt.figure(figsize=(16, 12))\n",
    "ax = fig.add_subplot(111)\n",
    "im = ax.imshow(data, extent=extent, origin='lower', interpolation='None', cmap=cmap)\n",
    "\n",
    "# Add the text\n",
    "jump_x = (x_end - x_start) / (2.0 * size)\n",
    "jump_y = (y_end - y_start) / (2.0 * size)\n",
    "x_positions = np.linspace(start=x_start, stop=x_end, num=size, endpoint=False)\n",
    "y_positions = np.linspace(start=y_start, stop=y_end, num=size, endpoint=False)\n",
    "\n",
    "for y_index, y in enumerate(y_positions):\n",
    "    for x_index, x in enumerate(x_positions):\n",
    "        label = C[y_index, x_index]\n",
    "        text_x = x + jump_x\n",
    "        text_y = y + jump_y\n",
    "        ax.text(text_x, text_y, label, color='black', ha='center', va='center', size = '30.0')\n",
    "\n",
    "# fig.colorbar(im)\n",
    "plt.show()\n",
    "print(C)"
   ]
  },
  {
   "cell_type": "code",
   "execution_count": 236,
   "id": "49f1f995",
   "metadata": {},
   "outputs": [
    {
     "data": {
      "text/plain": [
       "<sklearn.metrics._plot.confusion_matrix.ConfusionMatrixDisplay at 0x7fc718466d30>"
      ]
     },
     "execution_count": 236,
     "metadata": {},
     "output_type": "execute_result"
    },
    {
     "data": {
      "image/png": "[encoded data removed]",
      "text/plain": [
       "<Figure size 432x288 with 2 Axes>"
      ]
     },
     "metadata": {
      "needs_background": "light"
     },
     "output_type": "display_data"
    }
   ],
   "source": [
    "from sklearn.metrics import ConfusionMatrixDisplay\n",
    "disp = ConfusionMatrixDisplay(C,display_labels = [\"True\",\"False\"])\n",
    "disp.plot()\n",
    "# disp.display_labels([1.0, 0.0], [\"True\",\"False\"])\n",
    "# disp.title(\"\")"
   ]
  },
  {
   "cell_type": "code",
   "execution_count": 237,
   "id": "b0faf132",
   "metadata": {},
   "outputs": [
    {
     "name": "stdout",
     "output_type": "stream",
     "text": [
      "[1 0 1 1 1 1 1 0 1 1 1 1 1 1 1 1 1 1 1 1 1 1 0 1 1 1 0 1 1 1 1 1 1 0 1 1 0\n",
      " 1 1 0 1 0 1 0 1 0 0 0 1 1 1 1 1 0 1 0 1 1 1 0 0 1 1 0 1 0 1 1 1 0 1 1 0 1\n",
      " 1 1 1 1 1 1 0 1 1 1 1 1 0 0 0 0 1 0 1 0 0 0 1 1 0 1 0 1 1 1 0 0 0 1 1 0 1\n",
      " 0 0 1 0 1 0 1 1 1 1 0 1 0 1 1 1 0 0 0 0 1 1 0 0 1 1 1 1 1 1 1 1 0 0 0 1 0\n",
      " 1 1 1 1 1 1 1 1 1 0 1 1 1 1 0 1 0 1 1 1 1 1 0 0 1 1 1 1 0 0 1 0 1 0 0 0 1\n",
      " 1 0 1 0 0 1 1 1 1 0 0 1 0 1 0 1 0 0 1 0 0 0 1 1 0 0 0 1 0 1 1 1 1 0 1 1 0\n",
      " 0 1 0 0 1 1 0 1 0 1 1 1 1 1 1 1 0 1 0 1 0 1 1 1 1 1 0 1 1 1 1 0 1 0 1 1 1\n",
      " 0 1 1 1 0 1 1 1 1 1 0 1 0 1 1 1 0 0 0 0 0 1 1 1 0 0 0 1 1 1 1 1 0 0 0 0 0\n",
      " 0 1 1 1 0 0 1 1 1 1 1 0 0 1 1 1 0 0 0 0 1 0 1 0 1 1 1 1 1 1 1 0 0 0 1 1 0\n",
      " 1 1 1 0 0 0 1 0 1 0 1 0 0 1 0 0 0 1 0 1 0 0 1 1 0 1 0 0 1 0 0 0 0 1 1 1 1\n",
      " 1 1 1 1 1 0 0 1 1 0 0 1 1 1 1 1 0 1 1 1 0 0 1 0 1 1 1 0 1 1 1 1 1 1 1 0 1\n",
      " 0 1 1 0 0 1 1 0 1 0 1 1 0 1 1 0 1 1 1 0 1 1 1 1 1 1 0 1 0 1 0 1 0 0 1 1 0\n",
      " 1 1 0 0 0 0 1 0 0 1 1 0 1 1 1 1 1 1 0 1 1 0 0 1 0 1 1 1 1 1 0 1 1 1 0 1 1\n",
      " 1 1 1 1 1 0 1 1 0 0 0 1 1 1 1 0 1 1 1 1 1 1 0 1 1 1 0 0 0 0 1 1 0 1 1 1 1\n",
      " 0 1 1 1 1 1 1 0 1 1 0 0 1 1 0 0 1 0 1 1 1 1 1 1 1 0 1 1 1 1 1 1 1 0 1 1 1\n",
      " 1 1 0 1 0 0 1 1 0 1 1 1 0 0 1 0 1 0 1 1 1 1 0 0 1 0 1 1 1 1 1 1 1 1 0 0 1\n",
      " 0 1 1 1 1 1 1 1 1 0 1 1 1 1 1 1 0 1 1 0 1 1 0 1 0 0 0 1 1 1 0 0 0 0 1 1 1\n",
      " 1 0 0 1 1 1 1 1 1 0 0 1 1 0 1 1 1 0 0 1 0 1 0 1 1 1 1 0 1 1 1 1 1 1 0 1 1\n",
      " 1 1 0 0 1 0 0 1 1 1 1 0 1 1 1 1 0 1 1 0 1 1 1 1 1 1 1 0 0 1 0 1 1 0 1 1 1\n",
      " 0 0 1 1 1 1 0 1 1 1 1 0 0 1 1 1 0 0 1 0 0 0 0 1 1 0 1 1 1 1 1 1 1 1 1 1 1\n",
      " 0 1 0 0 0 1 1 1 0 1 0 0 0 1 0 0 1 1 0 0 1 1 0 1 0 0 1 1 1 1 0 1 1 0 0 1 1\n",
      " 0 1 0 0 1 1 1 1 0 1 1 0 1 1 1 1 1 0 1 1 1 1 0 1 1 0 1 1 0 1 1 1 0 1 1 1 1\n",
      " 0 1 0 0 0 1 0 1 1 0 0 1 1 1 1 0 1 1 1 1 1 0 1 1 1 1 1 1 0 1 1 0 1 1 0 1 1\n",
      " 1 0 0 0 1 1 0 1 1 1 1 1 0 1 1 0 1 0 0 1 0 0 1 1 1 1 0 1 0 0 0 0 0 1 0 1 0\n",
      " 1 1 0 1 0 1 1 1 0 1 0 1 0 1 1 0 0 1 1 1 0 1 1 1 0 1 0 1 0 1 1 1 1 1 1 1 0\n",
      " 1 1 1 1 1 1 1 1 1 1 1 1 1 0 0 1 0 0 1 1 1 0 0 1 0 1 0 0 0 1 0 0 1 0 1 1 1\n",
      " 1 1 1 1 0 1 1 1 0 1 1 1 1 0 1 1 1 0 1 1 1 1 1 1 1 1 0 1 1 0 1 0 1 1 1 0 0\n",
      " 0]\n"
     ]
    }
   ],
   "source": [
    "print(y_pred[1000:2000])"
   ]
  },
  {
   "cell_type": "code",
   "execution_count": 238,
   "id": "43aaf4a3",
   "metadata": {},
   "outputs": [],
   "source": [
    "#Logistic regression for reversed values"
   ]
  },
  {
   "cell_type": "code",
   "execution_count": 239,
   "id": "f9a38803",
   "metadata": {},
   "outputs": [],
   "source": [
    "# x_clicks_array = np.array(x_clicks)\n",
    "# y_question_bool_array_reverse = np.array(y_question_bool_reverse)\n",
    "\n",
    "# x_clicks_array.reshape(1, -1)\n",
    "# y_question_bool_array.reshape(1, -1)\n",
    "\n",
    "# x_train, x_test, y_train, y_test = train_test_split(x_clicks_array, y_question_bool_array_reverse, random_state=1)\n",
    "\n",
    "# x_train= x_train.reshape(-1, 1)\n",
    "# y_train= y_train.reshape(113112, )\n",
    "# x_test = x_test.reshape(-1, 1)\n",
    "# y_test = y_test.reshape(-1, 1)\n"
   ]
  },
  {
   "cell_type": "code",
   "execution_count": 240,
   "id": "8a53b560",
   "metadata": {},
   "outputs": [],
   "source": [
    "# x_train=x_train.astype('float')\n",
    "# y_train=y_train.astype('int')\n",
    "# x_test=x_test.astype('float')\n",
    "# y_test=y_test.astype('int')"
   ]
  },
  {
   "cell_type": "code",
   "execution_count": 241,
   "id": "716dc111",
   "metadata": {},
   "outputs": [],
   "source": [
    "# log_reg = LogisticRegression()\n",
    "# log_reg.fit(x_train, y_train)"
   ]
  },
  {
   "cell_type": "code",
   "execution_count": 242,
   "id": "93c6a895",
   "metadata": {},
   "outputs": [],
   "source": [
    "# print(log_reg.coef_)\n",
    "# print(log_reg.intercept_)\n",
    "\n",
    "# beta0 = log_reg.coef_\n",
    "# beta1 = log_reg.intercept_"
   ]
  },
  {
   "cell_type": "code",
   "execution_count": 243,
   "id": "435a6bac",
   "metadata": {},
   "outputs": [],
   "source": [
    "# y_pred = log_reg.predict(x_test)"
   ]
  },
  {
   "cell_type": "code",
   "execution_count": 244,
   "id": "3dfb1b02",
   "metadata": {},
   "outputs": [],
   "source": [
    "# confusion_matrix(y_test, y_pred)"
   ]
  },
  {
   "cell_type": "code",
   "execution_count": 245,
   "id": "840b330d",
   "metadata": {},
   "outputs": [
    {
     "data": {
      "text/plain": [
       "[<matplotlib.lines.Line2D at 0x7fc739d93550>]"
      ]
     },
     "execution_count": 245,
     "metadata": {},
     "output_type": "execute_result"
    },
    {
     "data": {
      "image/png": "[encoded data removed]",
      "text/plain": [
       "<Figure size 432x288 with 1 Axes>"
      ]
     },
     "metadata": {
      "needs_background": "light"
     },
     "output_type": "display_data"
    }
   ],
   "source": [
    "plt.figure()\n",
    "plt.plot(x_clicks,y_question_bool,'x',markersize='8.0',color=\"blue\")\n",
    "plt.xlabel(\"Clicks ratio, $r$\")\n",
    "plt.ylabel(\"Headline contains punctuation mark\")\n",
    "plt.yticks([1.0, 0.0], [\"True\",\"False\"])\n",
    "plt.title(\"Clicks ratio vs. Punctuation Marks\")\n",
    "\n",
    "x_curve = np.linspace(0,0.2,100)\n",
    "y_curve = np.zeros(100)\n",
    "\n",
    "for i in range(100):\n",
    "    y_curve[i] = (1/(1+(np.exp(-(beta0*x_curve[i]+beta1)))))\n",
    "    \n",
    "plt.plot(x_curve,y_curve,color='orange',linewidth='2.0')"
   ]
  },
  {
   "cell_type": "code",
   "execution_count": 246,
   "id": "b8a3ad7c",
   "metadata": {},
   "outputs": [
    {
     "name": "stdout",
     "output_type": "stream",
     "text": [
      "Accuracy: 0.45315464169879444\n",
      "Precision: 0.28132273079906905\n",
      "Recall: 0.6554450971531858\n"
     ]
    }
   ],
   "source": [
    "from sklearn import metrics\n",
    "print(\"Accuracy:\",metrics.accuracy_score(y_test, y_pred))\n",
    "print(\"Precision:\",metrics.precision_score(y_test, y_pred))\n",
    "print(\"Recall:\",metrics.recall_score(y_test, y_pred))"
   ]
  },
  {
   "cell_type": "code",
   "execution_count": 247,
   "id": "4e97405d",
   "metadata": {},
   "outputs": [
    {
     "name": "stdout",
     "output_type": "stream",
     "text": [
      "17960\n",
      "(65363,)\n"
     ]
    }
   ],
   "source": [
    "count_1s = 0\n",
    "for i in y_question_bool:\n",
    "    if i==1:\n",
    "        count_1s = count_1s +1\n",
    "        \n",
    "print(count_1s)\n",
    "print(y_question_bool.shape)"
   ]
  },
  {
   "cell_type": "code",
   "execution_count": null,
   "id": "e0f26728",
   "metadata": {},
   "outputs": [],
   "source": []
  },
  {
   "cell_type": "code",
   "execution_count": null,
   "id": "3ba0afab",
   "metadata": {},
   "outputs": [],
   "source": []
  }
 ],
 "metadata": {
  "kernelspec": {
   "display_name": "Python 3 (ipykernel)",
   "language": "python",
   "name": "python3"
  },
  "language_info": {
   "codemirror_mode": {
    "name": "ipython",
    "version": 3
   },
   "file_extension": ".py",
   "mimetype": "text/x-python",
   "name": "python",
   "nbconvert_exporter": "python",
   "pygments_lexer": "ipython3",
   "version": "3.8.11"
  }
 },
 "nbformat": 4,
 "nbformat_minor": 5
}
